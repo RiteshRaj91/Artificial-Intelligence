{
 "cells": [
  {
   "cell_type": "code",
   "execution_count": 2,
   "id": "f77500ec",
   "metadata": {},
   "outputs": [],
   "source": [
    "import numpy as np\n",
    "import matplotlib.pyplot as plt\n",
    "x1 = [10, 8, 15]\n",
    "x2 = [8, 20 , 25]\n",
    "y = [30, 15, 20]\n",
    "\n",
    "# Estimate best values of w1, w2, b"
   ]
  },
  {
   "cell_type": "code",
   "execution_count": 66,
   "id": "8c7fbf6c",
   "metadata": {},
   "outputs": [],
   "source": [
    "def forward_pass(w1, w2, b):\n",
    "    y_pred = []\n",
    "    total_error = 0\n",
    "    for i in range(n):\n",
    "        y_hat = w1 * x1[i] + w2 * x2[i] + b\n",
    "        y_pred.append(y_hat)\n",
    "\n",
    "        E = (y[i]-y_hat)**2\n",
    "        total_error += E\n",
    "    return y_pred, total_error"
   ]
  },
  {
   "cell_type": "code",
   "execution_count": 67,
   "id": "af365493",
   "metadata": {},
   "outputs": [],
   "source": [
    "def weight_update(w1, w2, b, y_pred):\n",
    "    for i in range(n):\n",
    "        dJ_dw1 = -2*(y[i]-y_pred[i])*x1[i] \n",
    "        dJ_dw2 = -2*(y[i]-y_pred[i])*x2[i] \n",
    "        dJ_db = -2*(y[i]-y_pred[i])\n",
    "\n",
    "        w1 = w1 - alpha * dJ_dw1\n",
    "        w2 = w2 - alpha * dJ_dw2\n",
    "        b = b - alpha * dJ_db\n",
    "    return w1, w2, b"
   ]
  },
  {
   "cell_type": "code",
   "execution_count": 69,
   "id": "46ad4a41",
   "metadata": {
    "scrolled": true
   },
   "outputs": [
    {
     "name": "stdout",
     "output_type": "stream",
     "text": [
      "0.2590732555175767 -1.6822254511507813 -0.45277397459269353\n",
      "Epoch #: 0 | MSE = 7355.23\n",
      "Epoch #: 1 | MSE = 3833.69\n",
      "Epoch #: 2 | MSE = 2056.93\n",
      "Epoch #: 3 | MSE = 1160.05\n",
      "Epoch #: 4 | MSE = 706.91\n",
      "Epoch #: 5 | MSE = 477.55\n",
      "Epoch #: 6 | MSE = 361.06\n",
      "Epoch #: 7 | MSE = 301.49\n",
      "Epoch #: 8 | MSE = 270.65\n",
      "Epoch #: 9 | MSE = 254.29\n",
      "Epoch #: 10 | MSE = 245.25\n",
      "Epoch #: 11 | MSE = 239.92\n",
      "Epoch #: 12 | MSE = 236.46\n",
      "Epoch #: 13 | MSE = 233.95\n",
      "Epoch #: 14 | MSE = 231.94\n",
      "Epoch #: 15 | MSE = 230.18\n",
      "Epoch #: 16 | MSE = 228.56\n",
      "Epoch #: 17 | MSE = 227.02\n",
      "Epoch #: 18 | MSE = 225.54\n",
      "Epoch #: 19 | MSE = 224.08\n",
      "Epoch #: 20 | MSE = 222.65\n",
      "Epoch #: 21 | MSE = 221.24\n",
      "Epoch #: 22 | MSE = 219.85\n",
      "Epoch #: 23 | MSE = 218.48\n",
      "Epoch #: 24 | MSE = 217.13\n",
      "Epoch #: 25 | MSE = 215.79\n",
      "Epoch #: 26 | MSE = 214.47\n",
      "Epoch #: 27 | MSE = 213.17\n",
      "Epoch #: 28 | MSE = 211.89\n",
      "Epoch #: 29 | MSE = 210.62\n",
      "Epoch #: 30 | MSE = 209.36\n",
      "Epoch #: 31 | MSE = 208.12\n",
      "Epoch #: 32 | MSE = 206.9\n",
      "Epoch #: 33 | MSE = 205.69\n",
      "Epoch #: 34 | MSE = 204.5\n",
      "Epoch #: 35 | MSE = 203.32\n",
      "Epoch #: 36 | MSE = 202.16\n",
      "Epoch #: 37 | MSE = 201.01\n",
      "Epoch #: 38 | MSE = 199.87\n",
      "Epoch #: 39 | MSE = 198.75\n",
      "Epoch #: 40 | MSE = 197.65\n",
      "Epoch #: 41 | MSE = 196.55\n",
      "Epoch #: 42 | MSE = 195.47\n",
      "Epoch #: 43 | MSE = 194.41\n",
      "Epoch #: 44 | MSE = 193.36\n",
      "Epoch #: 45 | MSE = 192.32\n",
      "Epoch #: 46 | MSE = 191.29\n",
      "Epoch #: 47 | MSE = 190.28\n",
      "Epoch #: 48 | MSE = 189.28\n",
      "Epoch #: 49 | MSE = 188.29\n",
      "Epoch #: 50 | MSE = 187.31\n",
      "Epoch #: 51 | MSE = 186.35\n",
      "Epoch #: 52 | MSE = 185.4\n",
      "Epoch #: 53 | MSE = 184.46\n",
      "Epoch #: 54 | MSE = 183.53\n",
      "Epoch #: 55 | MSE = 182.61\n",
      "Epoch #: 56 | MSE = 181.71\n",
      "Epoch #: 57 | MSE = 180.81\n",
      "Epoch #: 58 | MSE = 179.93\n",
      "Epoch #: 59 | MSE = 179.06\n",
      "Epoch #: 60 | MSE = 178.2\n",
      "Epoch #: 61 | MSE = 177.35\n",
      "Epoch #: 62 | MSE = 176.51\n",
      "Epoch #: 63 | MSE = 175.68\n",
      "Epoch #: 64 | MSE = 174.86\n",
      "Epoch #: 65 | MSE = 174.05\n",
      "Epoch #: 66 | MSE = 173.25\n",
      "Epoch #: 67 | MSE = 172.46\n",
      "Epoch #: 68 | MSE = 171.68\n",
      "Epoch #: 69 | MSE = 170.91\n",
      "Epoch #: 70 | MSE = 170.15\n",
      "Epoch #: 71 | MSE = 169.4\n",
      "Epoch #: 72 | MSE = 168.66\n",
      "Epoch #: 73 | MSE = 167.93\n",
      "Epoch #: 74 | MSE = 167.2\n",
      "Epoch #: 75 | MSE = 166.49\n",
      "Epoch #: 76 | MSE = 165.78\n",
      "Epoch #: 77 | MSE = 165.09\n",
      "Epoch #: 78 | MSE = 164.4\n",
      "Epoch #: 79 | MSE = 163.72\n",
      "Epoch #: 80 | MSE = 163.05\n",
      "Epoch #: 81 | MSE = 162.39\n",
      "Epoch #: 82 | MSE = 161.73\n",
      "Epoch #: 83 | MSE = 161.09\n",
      "Epoch #: 84 | MSE = 160.45\n",
      "Epoch #: 85 | MSE = 159.82\n",
      "Epoch #: 86 | MSE = 159.2\n",
      "Epoch #: 87 | MSE = 158.58\n",
      "Epoch #: 88 | MSE = 157.98\n",
      "Epoch #: 89 | MSE = 157.38\n",
      "Epoch #: 90 | MSE = 156.78\n",
      "Epoch #: 91 | MSE = 156.2\n",
      "Epoch #: 92 | MSE = 155.62\n",
      "Epoch #: 93 | MSE = 155.05\n",
      "Epoch #: 94 | MSE = 154.49\n",
      "Epoch #: 95 | MSE = 153.93\n",
      "Epoch #: 96 | MSE = 153.38\n",
      "Epoch #: 97 | MSE = 152.84\n",
      "Epoch #: 98 | MSE = 152.3\n",
      "Epoch #: 99 | MSE = 151.77\n"
     ]
    }
   ],
   "source": [
    "#CONSTANTS\n",
    "iterations = 100\n",
    "n = len(x1)\n",
    "alpha = 0.0001\n",
    "\n",
    "#INIT of WEIGHTS\n",
    "random_init = np.random.randn(3)\n",
    "w1, w2, b = random_init[0], random_init[1], random_init[2]\n",
    "print(w1, w2, b)\n",
    "\n",
    "# MODEL\n",
    "error = []\n",
    "for iter_num in range(iterations):\n",
    "    y_pred, total_error = forward_pass(w1, w2, b)\n",
    "    print(f\"Epoch #: {iter_num} | MSE = {round(total_error,2)}\")\n",
    "    error.append(total_error)\n",
    "    w1, w2, b = weight_update(w1, w2, b, y_pred)\n",
    "    "
   ]
  },
  {
   "cell_type": "code",
   "execution_count": 74,
   "id": "887ae36d",
   "metadata": {},
   "outputs": [
    {
     "data": {
      "text/plain": [
       "(2.2241918593234677, -0.2745726148360048, -0.2046704633832944)"
      ]
     },
     "execution_count": 74,
     "metadata": {},
     "output_type": "execute_result"
    }
   ],
   "source": [
    "w1, w2, b"
   ]
  },
  {
   "cell_type": "code",
   "execution_count": 73,
   "id": "5f52d02c",
   "metadata": {},
   "outputs": [
    {
     "data": {
      "image/png": "[encoded data removed]",
      "text/plain": [
       "<Figure size 640x480 with 1 Axes>"
      ]
     },
     "metadata": {},
     "output_type": "display_data"
    }
   ],
   "source": [
    "plt.plot(error)\n",
    "plt.xlabel(\"EPOCH #\")\n",
    "plt.ylabel(\"MSE\")\n",
    "plt.grid()\n",
    "plt.show()"
   ]
  }
 ],
 "metadata": {
  "kernelspec": {
   "display_name": "Python 3",
   "language": "python",
   "name": "python3"
  },
  "language_info": {
   "codemirror_mode": {
    "name": "ipython",
    "version": 3
   },
   "file_extension": ".py",
   "mimetype": "text/x-python",
   "name": "python",
   "nbconvert_exporter": "python",
   "pygments_lexer": "ipython3",
   "version": "3.8.5"
  }
 },
 "nbformat": 4,
 "nbformat_minor": 5
}
