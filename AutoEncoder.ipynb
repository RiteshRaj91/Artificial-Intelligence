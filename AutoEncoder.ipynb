{
 "cells": [
  {
   "cell_type": "code",
   "execution_count": 30,
   "metadata": {},
   "outputs": [],
   "source": [
    "from tensorflow.keras.datasets import mnist\n",
    "from tensorflow.keras.models import Sequential\n",
    "from tensorflow.keras.layers import Dense, Input\n",
    "from tensorflow.keras.optimizers import Adam\n",
    "import matplotlib.pyplot as plt"
   ]
  },
  {
   "cell_type": "code",
   "execution_count": 4,
   "metadata": {},
   "outputs": [],
   "source": [
    "(x_train, _), (x_test, _) = mnist.load_data()"
   ]
  },
  {
   "cell_type": "code",
   "execution_count": 5,
   "metadata": {},
   "outputs": [
    {
     "data": {
      "text/plain": [
       "(60000, 28, 28)"
      ]
     },
     "execution_count": 5,
     "metadata": {},
     "output_type": "execute_result"
    }
   ],
   "source": [
    "x_train.shape"
   ]
  },
  {
   "cell_type": "code",
   "execution_count": 6,
   "metadata": {},
   "outputs": [],
   "source": [
    "x_train = x_train.reshape(-1, 784)\n",
    "x_test = x_test.reshape(-1, 784)"
   ]
  },
  {
   "cell_type": "code",
   "execution_count": 51,
   "metadata": {},
   "outputs": [],
   "source": [
    "## Model Building\n",
    "model = Sequential()\n",
    "model.add(Input(shape=(784,)))\n",
    "# model.add(Dense(512, activation=\"relu\"))\n",
    "model.add(Dense(128, activation=\"relu\"))\n",
    "model.add(Dense(16, activation=\"relu\")) # Code\n",
    "model.add(Dense(128, activation=\"relu\"))\n",
    "# model.add(Dense(512, activation=\"relu\"))\n",
    "model.add(Dense(784))"
   ]
  },
  {
   "cell_type": "code",
   "execution_count": 52,
   "metadata": {},
   "outputs": [
    {
     "name": "stdout",
     "output_type": "stream",
     "text": [
      "Epoch 1/50\n",
      "60/60 [==============================] - 1s 21ms/step - loss: 4618.6479 - mean_squared_error: 4618.6479 - val_loss: 3790.8596 - val_mean_squared_error: 3790.8596\n",
      "Epoch 2/50\n",
      "60/60 [==============================] - 1s 20ms/step - loss: 3175.1011 - mean_squared_error: 3175.1011 - val_loss: 2792.4055 - val_mean_squared_error: 2792.4055\n",
      "Epoch 3/50\n",
      "60/60 [==============================] - 1s 20ms/step - loss: 2609.9194 - mean_squared_error: 2609.9194 - val_loss: 2420.3000 - val_mean_squared_error: 2420.3000\n",
      "Epoch 4/50\n",
      "60/60 [==============================] - 1s 21ms/step - loss: 2301.3154 - mean_squared_error: 2301.3154 - val_loss: 2165.6338 - val_mean_squared_error: 2165.6338\n",
      "Epoch 5/50\n",
      "60/60 [==============================] - 1s 21ms/step - loss: 2117.9104 - mean_squared_error: 2117.9104 - val_loss: 2039.6060 - val_mean_squared_error: 2039.6060\n",
      "Epoch 6/50\n",
      "60/60 [==============================] - 1s 21ms/step - loss: 2022.8051 - mean_squared_error: 2022.8051 - val_loss: 1960.7434 - val_mean_squared_error: 1960.7434\n",
      "Epoch 7/50\n",
      "60/60 [==============================] - 1s 20ms/step - loss: 1955.5522 - mean_squared_error: 1955.5522 - val_loss: 1907.0142 - val_mean_squared_error: 1907.0142\n",
      "Epoch 8/50\n",
      "60/60 [==============================] - 1s 22ms/step - loss: 1909.1433 - mean_squared_error: 1909.1433 - val_loss: 1868.9788 - val_mean_squared_error: 1868.9788\n",
      "Epoch 9/50\n",
      "60/60 [==============================] - 1s 21ms/step - loss: 1872.9553 - mean_squared_error: 1872.9553 - val_loss: 1837.8866 - val_mean_squared_error: 1837.8866\n",
      "Epoch 10/50\n",
      "60/60 [==============================] - 1s 21ms/step - loss: 1843.5316 - mean_squared_error: 1843.5316 - val_loss: 1812.5750 - val_mean_squared_error: 1812.5750\n",
      "Epoch 11/50\n",
      "60/60 [==============================] - 1s 19ms/step - loss: 1818.1315 - mean_squared_error: 1818.1315 - val_loss: 1789.1202 - val_mean_squared_error: 1789.1202\n",
      "Epoch 12/50\n",
      "60/60 [==============================] - 1s 20ms/step - loss: 1796.7284 - mean_squared_error: 1796.7284 - val_loss: 1771.2412 - val_mean_squared_error: 1771.2412\n",
      "Epoch 13/50\n",
      "60/60 [==============================] - 1s 20ms/step - loss: 1778.5095 - mean_squared_error: 1778.5095 - val_loss: 1753.4076 - val_mean_squared_error: 1753.4076\n",
      "Epoch 14/50\n",
      "60/60 [==============================] - 1s 20ms/step - loss: 1751.7554 - mean_squared_error: 1751.7554 - val_loss: 1716.2306 - val_mean_squared_error: 1716.2306\n",
      "Epoch 15/50\n",
      "60/60 [==============================] - 1s 23ms/step - loss: 1715.6887 - mean_squared_error: 1715.6887 - val_loss: 1687.2136 - val_mean_squared_error: 1687.2136\n",
      "Epoch 16/50\n",
      "60/60 [==============================] - 1s 22ms/step - loss: 1691.3188 - mean_squared_error: 1691.3188 - val_loss: 1669.0487 - val_mean_squared_error: 1669.0487\n",
      "Epoch 17/50\n",
      "60/60 [==============================] - 1s 21ms/step - loss: 1674.5016 - mean_squared_error: 1674.5016 - val_loss: 1653.4878 - val_mean_squared_error: 1653.4878\n",
      "Epoch 18/50\n",
      "60/60 [==============================] - 1s 21ms/step - loss: 1659.2776 - mean_squared_error: 1659.2776 - val_loss: 1642.3948 - val_mean_squared_error: 1642.3948\n",
      "Epoch 19/50\n",
      "60/60 [==============================] - 1s 21ms/step - loss: 1647.3945 - mean_squared_error: 1647.3945 - val_loss: 1628.9939 - val_mean_squared_error: 1628.9939\n",
      "Epoch 20/50\n",
      "60/60 [==============================] - 1s 22ms/step - loss: 1635.8444 - mean_squared_error: 1635.8444 - val_loss: 1619.1490 - val_mean_squared_error: 1619.1490\n",
      "Epoch 21/50\n",
      "60/60 [==============================] - 1s 22ms/step - loss: 1625.4182 - mean_squared_error: 1625.4182 - val_loss: 1609.0612 - val_mean_squared_error: 1609.0612\n",
      "Epoch 22/50\n",
      "60/60 [==============================] - 1s 25ms/step - loss: 1616.0538 - mean_squared_error: 1616.0538 - val_loss: 1601.7975 - val_mean_squared_error: 1601.7975\n",
      "Epoch 23/50\n",
      "60/60 [==============================] - 1s 19ms/step - loss: 1606.8783 - mean_squared_error: 1606.8783 - val_loss: 1591.1625 - val_mean_squared_error: 1591.1625\n",
      "Epoch 24/50\n",
      "60/60 [==============================] - 1s 20ms/step - loss: 1598.8757 - mean_squared_error: 1598.8757 - val_loss: 1583.4447 - val_mean_squared_error: 1583.4447\n",
      "Epoch 25/50\n",
      "60/60 [==============================] - 1s 20ms/step - loss: 1590.8506 - mean_squared_error: 1590.8506 - val_loss: 1576.0283 - val_mean_squared_error: 1576.0283\n",
      "Epoch 26/50\n",
      "60/60 [==============================] - 1s 19ms/step - loss: 1583.2472 - mean_squared_error: 1583.2472 - val_loss: 1569.2322 - val_mean_squared_error: 1569.2322\n",
      "Epoch 27/50\n",
      "60/60 [==============================] - 1s 19ms/step - loss: 1576.1638 - mean_squared_error: 1576.1638 - val_loss: 1562.0022 - val_mean_squared_error: 1562.0022\n",
      "Epoch 28/50\n",
      "60/60 [==============================] - 1s 19ms/step - loss: 1569.7058 - mean_squared_error: 1569.7058 - val_loss: 1557.8011 - val_mean_squared_error: 1557.8011\n",
      "Epoch 29/50\n",
      "60/60 [==============================] - ETA: 0s - loss: 1563.0269 - mean_squared_error: 1563.02 - 1s 19ms/step - loss: 1562.9966 - mean_squared_error: 1562.9966 - val_loss: 1551.5172 - val_mean_squared_error: 1551.5172\n",
      "Epoch 30/50\n",
      "60/60 [==============================] - 1s 19ms/step - loss: 1557.3783 - mean_squared_error: 1557.3783 - val_loss: 1544.9440 - val_mean_squared_error: 1544.9440\n",
      "Epoch 31/50\n",
      "60/60 [==============================] - 1s 19ms/step - loss: 1551.3518 - mean_squared_error: 1551.3518 - val_loss: 1539.1689 - val_mean_squared_error: 1539.1689\n",
      "Epoch 32/50\n",
      "60/60 [==============================] - 1s 18ms/step - loss: 1545.9257 - mean_squared_error: 1545.9257 - val_loss: 1536.4985 - val_mean_squared_error: 1536.4985\n",
      "Epoch 33/50\n",
      "60/60 [==============================] - 1s 19ms/step - loss: 1540.7665 - mean_squared_error: 1540.7665 - val_loss: 1529.4342 - val_mean_squared_error: 1529.4342\n",
      "Epoch 34/50\n",
      "60/60 [==============================] - 1s 19ms/step - loss: 1536.0551 - mean_squared_error: 1536.0551 - val_loss: 1524.3975 - val_mean_squared_error: 1524.3975\n",
      "Epoch 35/50\n",
      "60/60 [==============================] - 1s 20ms/step - loss: 1531.2225 - mean_squared_error: 1531.2225 - val_loss: 1520.3058 - val_mean_squared_error: 1520.3058\n",
      "Epoch 36/50\n",
      "60/60 [==============================] - 1s 20ms/step - loss: 1526.0103 - mean_squared_error: 1526.0103 - val_loss: 1514.5654 - val_mean_squared_error: 1514.5654\n",
      "Epoch 37/50\n",
      "60/60 [==============================] - 1s 20ms/step - loss: 1521.7321 - mean_squared_error: 1521.7321 - val_loss: 1511.6686 - val_mean_squared_error: 1511.6686\n",
      "Epoch 38/50\n",
      "60/60 [==============================] - 1s 20ms/step - loss: 1517.5684 - mean_squared_error: 1517.5684 - val_loss: 1507.1792 - val_mean_squared_error: 1507.1792\n",
      "Epoch 39/50\n",
      "60/60 [==============================] - 1s 20ms/step - loss: 1513.7346 - mean_squared_error: 1513.7346 - val_loss: 1504.6656 - val_mean_squared_error: 1504.6656\n",
      "Epoch 40/50\n",
      "60/60 [==============================] - 1s 20ms/step - loss: 1510.0416 - mean_squared_error: 1510.0416 - val_loss: 1499.1968 - val_mean_squared_error: 1499.1968\n",
      "Epoch 41/50\n",
      "60/60 [==============================] - 1s 20ms/step - loss: 1506.4967 - mean_squared_error: 1506.4967 - val_loss: 1495.7476 - val_mean_squared_error: 1495.7476\n",
      "Epoch 42/50\n",
      "60/60 [==============================] - 1s 20ms/step - loss: 1502.4318 - mean_squared_error: 1502.4318 - val_loss: 1493.7548 - val_mean_squared_error: 1493.7548\n",
      "Epoch 43/50\n",
      "60/60 [==============================] - 1s 19ms/step - loss: 1499.2598 - mean_squared_error: 1499.2598 - val_loss: 1489.6686 - val_mean_squared_error: 1489.6686\n",
      "Epoch 44/50\n",
      "60/60 [==============================] - 1s 20ms/step - loss: 1495.6827 - mean_squared_error: 1495.6827 - val_loss: 1484.9630 - val_mean_squared_error: 1484.9630\n",
      "Epoch 45/50\n",
      "60/60 [==============================] - 1s 19ms/step - loss: 1493.3988 - mean_squared_error: 1493.3988 - val_loss: 1484.6531 - val_mean_squared_error: 1484.6531\n",
      "Epoch 46/50\n",
      "60/60 [==============================] - 1s 20ms/step - loss: 1489.5948 - mean_squared_error: 1489.5948 - val_loss: 1480.3550 - val_mean_squared_error: 1480.3550\n",
      "Epoch 47/50\n",
      "60/60 [==============================] - 1s 19ms/step - loss: 1486.6521 - mean_squared_error: 1486.6521 - val_loss: 1478.3602 - val_mean_squared_error: 1478.3602\n",
      "Epoch 48/50\n",
      "60/60 [==============================] - 1s 20ms/step - loss: 1483.1027 - mean_squared_error: 1483.1027 - val_loss: 1474.0885 - val_mean_squared_error: 1474.0885\n",
      "Epoch 49/50\n",
      "60/60 [==============================] - 1s 20ms/step - loss: 1480.0377 - mean_squared_error: 1480.0377 - val_loss: 1471.4810 - val_mean_squared_error: 1471.4810\n",
      "Epoch 50/50\n",
      "60/60 [==============================] - 1s 20ms/step - loss: 1477.9424 - mean_squared_error: 1477.9424 - val_loss: 1469.7930 - val_mean_squared_error: 1469.7930\n"
     ]
    },
    {
     "data": {
      "text/plain": [
       "<tensorflow.python.keras.callbacks.History at 0x22bbd91bc40>"
      ]
     },
     "execution_count": 52,
     "metadata": {},
     "output_type": "execute_result"
    }
   ],
   "source": [
    "model.compile(optimizer=\"adam\", loss=\"mean_squared_error\",\n",
    "              metrics=\"mean_squared_error\")\n",
    "\n",
    "model.fit(x=x_train, y=x_train, epochs=50, batch_size=1000,\n",
    "          validation_data=(x_test, x_test))"
   ]
  },
  {
   "cell_type": "code",
   "execution_count": 53,
   "metadata": {},
   "outputs": [
    {
     "name": "stdout",
     "output_type": "stream",
     "text": [
      "Model: \"sequential_10\"\n",
      "_________________________________________________________________\n",
      "Layer (type)                 Output Shape              Param #   \n",
      "=================================================================\n",
      "dense_22 (Dense)             (None, 128)               100480    \n",
      "_________________________________________________________________\n",
      "dense_23 (Dense)             (None, 16)                2064      \n",
      "_________________________________________________________________\n",
      "dense_24 (Dense)             (None, 128)               2176      \n",
      "_________________________________________________________________\n",
      "dense_25 (Dense)             (None, 784)               101136    \n",
      "=================================================================\n",
      "Total params: 205,856\n",
      "Trainable params: 205,856\n",
      "Non-trainable params: 0\n",
      "_________________________________________________________________\n"
     ]
    }
   ],
   "source": [
    "model.summary()"
   ]
  },
  {
   "cell_type": "code",
   "execution_count": 54,
   "metadata": {},
   "outputs": [
    {
     "name": "stdout",
     "output_type": "stream",
     "text": [
      "<tensorflow.python.keras.layers.core.Dense object at 0x0000022BB0269E80>\n",
      "<tensorflow.python.keras.layers.core.Dense object at 0x0000022BB02696D0>\n",
      "<tensorflow.python.keras.layers.core.Dense object at 0x0000022BAFEB4580>\n",
      "<tensorflow.python.keras.layers.core.Dense object at 0x0000022BAFEB4E20>\n"
     ]
    }
   ],
   "source": [
    "for layer in model.layers:\n",
    "    print(layer)"
   ]
  },
  {
   "cell_type": "markdown",
   "metadata": {},
   "source": [
    "### Encoder"
   ]
  },
  {
   "cell_type": "code",
   "execution_count": 55,
   "metadata": {},
   "outputs": [],
   "source": [
    "encoder = Sequential()\n",
    "for layer in model.layers[:2]:\n",
    "    encoder.add(layer)"
   ]
  },
  {
   "cell_type": "code",
   "execution_count": 56,
   "metadata": {},
   "outputs": [
    {
     "name": "stdout",
     "output_type": "stream",
     "text": [
      "Model: \"sequential_11\"\n",
      "_________________________________________________________________\n",
      "Layer (type)                 Output Shape              Param #   \n",
      "=================================================================\n",
      "dense_22 (Dense)             (None, 128)               100480    \n",
      "_________________________________________________________________\n",
      "dense_23 (Dense)             (None, 16)                2064      \n",
      "=================================================================\n",
      "Total params: 102,544\n",
      "Trainable params: 102,544\n",
      "Non-trainable params: 0\n",
      "_________________________________________________________________\n"
     ]
    }
   ],
   "source": [
    "encoder.build(input_shape=(None,784))\n",
    "encoder.summary()"
   ]
  },
  {
   "cell_type": "markdown",
   "metadata": {},
   "source": [
    "### Decoder"
   ]
  },
  {
   "cell_type": "code",
   "execution_count": 57,
   "metadata": {},
   "outputs": [],
   "source": [
    "decoder = Sequential()\n",
    "for layer in model.layers[2:]:\n",
    "    decoder.add(layer)"
   ]
  },
  {
   "cell_type": "code",
   "execution_count": 58,
   "metadata": {},
   "outputs": [
    {
     "name": "stdout",
     "output_type": "stream",
     "text": [
      "Model: \"sequential_12\"\n",
      "_________________________________________________________________\n",
      "Layer (type)                 Output Shape              Param #   \n",
      "=================================================================\n",
      "dense_24 (Dense)             (None, 128)               2176      \n",
      "_________________________________________________________________\n",
      "dense_25 (Dense)             (None, 784)               101136    \n",
      "=================================================================\n",
      "Total params: 103,312\n",
      "Trainable params: 103,312\n",
      "Non-trainable params: 0\n",
      "_________________________________________________________________\n"
     ]
    }
   ],
   "source": [
    "decoder.build(input_shape = (None, 16))\n",
    "decoder.summary()"
   ]
  },
  {
   "cell_type": "markdown",
   "metadata": {},
   "source": [
    "### Test"
   ]
  },
  {
   "cell_type": "code",
   "execution_count": 69,
   "metadata": {},
   "outputs": [
    {
     "data": {
      "image/png": "[encoded data removed]",
      "text/plain": [
       "<Figure size 640x480 with 1 Axes>"
      ]
     },
     "metadata": {},
     "output_type": "display_data"
    }
   ],
   "source": [
    "plt.imshow(x_test[10].reshape(28,28), cmap=\"gray\")\n",
    "plt.title(\"Acutal Test Image\")\n",
    "plt.show()"
   ]
  },
  {
   "cell_type": "code",
   "execution_count": 60,
   "metadata": {},
   "outputs": [],
   "source": [
    "code = encoder.predict(x_test)"
   ]
  },
  {
   "cell_type": "code",
   "execution_count": 61,
   "metadata": {},
   "outputs": [
    {
     "data": {
      "text/plain": [
       "array([ 379.48615, 1515.0681 ,    0.     ,  826.4027 ,    0.     ,\n",
       "          0.     , 1421.094  ,    0.     ,  918.2942 ,  278.78723,\n",
       "        907.3844 ,    0.     , 1123.7948 , 1062.6324 ,    0.     ,\n",
       "          0.     ], dtype=float32)"
      ]
     },
     "execution_count": 61,
     "metadata": {},
     "output_type": "execute_result"
    }
   ],
   "source": [
    "code[100] # This code of 100th image in test set is a compressed representation of the original image"
   ]
  },
  {
   "cell_type": "code",
   "execution_count": 64,
   "metadata": {},
   "outputs": [],
   "source": [
    "# Decode this compressed image\n",
    "\n",
    "recons_output = decoder.predict(code)"
   ]
  },
  {
   "cell_type": "code",
   "execution_count": 68,
   "metadata": {},
   "outputs": [
    {
     "data": {
      "image/png": "[encoded data removed]",
      "text/plain": [
       "<Figure size 640x480 with 1 Axes>"
      ]
     },
     "metadata": {},
     "output_type": "display_data"
    }
   ],
   "source": [
    "plt.imshow(recons_output[10].reshape(28,28), cmap='gray')\n",
    "plt.show()"
   ]
  },
  {
   "cell_type": "code",
   "execution_count": 66,
   "metadata": {},
   "outputs": [
    {
     "data": {
      "image/png": "[encoded data removed]",
      "text/plain": [
       "<Figure size 640x480 with 1 Axes>"
      ]
     },
     "metadata": {},
     "output_type": "display_data"
    }
   ],
   "source": [
    "plt.imshow(recons_output[100].reshape(28,28), cmap='gray')\n",
    "plt.show()"
   ]
  },
  {
   "cell_type": "code",
   "execution_count": 67,
   "metadata": {},
   "outputs": [
    {
     "data": {
      "image/png": "[encoded data removed]",
      "text/plain": [
       "<Figure size 640x480 with 1 Axes>"
      ]
     },
     "metadata": {},
     "output_type": "display_data"
    }
   ],
   "source": [
    "plt.imshow(recons_output[100].reshape(28,28), cmap='gray')\n",
    "plt.show()"
   ]
  }
 ],
 "metadata": {
  "kernelspec": {
   "display_name": "tf",
   "language": "python",
   "name": "tf"
  },
  "language_info": {
   "codemirror_mode": {
    "name": "ipython",
    "version": 3
   },
   "file_extension": ".py",
   "mimetype": "text/x-python",
   "name": "python",
   "nbconvert_exporter": "python",
   "pygments_lexer": "ipython3",
   "version": "3.8.8"
  },
  "orig_nbformat": 4
 },
 "nbformat": 4,
 "nbformat_minor": 2
}
